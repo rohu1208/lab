{
 "cells": [
  {
   "cell_type": "code",
   "execution_count": null,
   "id": "b2c02098",
   "metadata": {},
   "outputs": [],
   "source": [
    "from cryptography.fernet import Fernet\n",
    "import hashlib\n",
    "\n",
    "# Generate a key for encryption (this should be done once and stored securely)\n",
    "def generate_key():\n",
    "    return Fernet.generate_key()\n",
    "\n",
    "# Encrypt and decrypt data using the generated key\n",
    "def encrypt_data(data, key):\n",
    "    f = Fernet(key)\n",
    "    return f.encrypt(data.encode())\n",
    "\n",
    "def decrypt_data(encrypted_data, key):\n",
    "    f = Fernet(key)\n",
    "    return f.decrypt(encrypted_data).decode()\n",
    "\n",
    "# Authenticate device based on its ID (hash comparison)\n",
    "def authenticate_device(device_id, stored_hash):\n",
    "    return hashlib.sha256(device_id.encode()).hexdigest() == stored_hash\n",
    "\n",
    "# Main function to simulate IIoT system interaction\n",
    "def iiot_system():\n",
    "    # Example key and stored hash for a device\n",
    "    key = generate_key()\n",
    "    stored_device_id_hash = hashlib.sha256(\"device123\".encode()).hexdigest()\n",
    "\n",
    "    device_id = input(\"Enter Device ID to connect: \")\n",
    "    \n",
    "    if authenticate_device(device_id, stored_device_id_hash):\n",
    "        print(\"Device authenticated.\")\n",
    "        data = \"Sensor Data: Temperature=25.4°C\"\n",
    "        encrypted_data = encrypt_data(data, key)\n",
    "        print(f\"Encrypted data: {encrypted_data}\")\n",
    "        \n",
    "        # Simulate sending and receiving data\n",
    "        decrypted_data = decrypt_data(encrypted_data, key)\n",
    "        print(f\"Decrypted data: {decrypted_data}\")\n",
    "    else:\n",
    "        print(\"Authentication failed.\")\n",
    "\n",
    "# Run the system\n",
    "iiot_system()\n"
   ]
  },
  {
   "cell_type": "code",
   "execution_count": null,
   "id": "0ae56685",
   "metadata": {},
   "outputs": [],
   "source": []
  }
 ],
 "metadata": {
  "kernelspec": {
   "display_name": "Python 3 (ipykernel)",
   "language": "python",
   "name": "python3"
  },
  "language_info": {
   "codemirror_mode": {
    "name": "ipython",
    "version": 3
   },
   "file_extension": ".py",
   "mimetype": "text/x-python",
   "name": "python",
   "nbconvert_exporter": "python",
   "pygments_lexer": "ipython3",
   "version": "3.11.4"
  }
 },
 "nbformat": 4,
 "nbformat_minor": 5
}
