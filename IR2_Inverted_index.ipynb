{
 "cells": [
  {
   "cell_type": "code",
   "execution_count": 8,
   "id": "03b3c743",
   "metadata": {},
   "outputs": [
    {
     "name": "stdout",
     "output_type": "stream",
     "text": [
      "Inverted Index:\n",
      "dog -> Document 1, Document 2\n",
      "the -> Document 1, Document 2\n",
      "brown -> Document 1\n",
      "slept -> Document 2\n",
      "in -> Document 2\n",
      "fox -> Document 1\n",
      "lazy -> Document 1, Document 2\n",
      "over -> Document 1\n",
      ". -> Document 1, Document 2\n",
      "jumped -> Document 1\n",
      "quick -> Document 1\n",
      "sun -> Document 2\n",
      "\n",
      "Enter your search query: sun\n",
      "\n",
      "Documents matching the query:\n",
      "Document 2\n"
     ]
    }
   ],
   "source": [
    "# Define the documents\n",
    "document1 = \"The quick brown fox jumped over the lazy dog .\"\n",
    "document2 = \"The lazy dog slept in the sun .\"\n",
    "\n",
    "# Step 1: Tokenize the documents\n",
    "# Convert each document to lowercase and split it into words\n",
    "tokens1 = document1.lower().split()\n",
    "tokens2 = document2.lower().split()\n",
    "\n",
    "# Combine the tokens into a list of unique terms\n",
    "terms = list(set(tokens1 + tokens2))\n",
    "\n",
    "# Step 2: Build the inverted index\n",
    "# Create an empty dictionary to store the inverted index\n",
    "inverted_index = {}\n",
    "\n",
    "# For each term, find the documents that contain it\n",
    "for term in terms:\n",
    "    documents = []\n",
    "    if term in tokens1:\n",
    "        documents.append(\"Document 1\")\n",
    "    if term in tokens2:\n",
    "        documents.append(\"Document 2\")\n",
    "    inverted_index[term] = documents\n",
    "\n",
    "# Step 3: Print the inverted index\n",
    "print(\"Inverted Index:\")\n",
    "for term, documents in inverted_index.items():\n",
    "    print(term, \"->\", \", \".join(documents))\n",
    "\n",
    "# Step 4: Search Query\n",
    "query = input(\"\\nEnter your search query: \").lower()  # Get the search query from the user\n",
    "query_terms = query.split()  # Split query into individual terms\n",
    "\n",
    "# Find the documents for the query\n",
    "result_docs = set()  # To store the matching documents\n",
    "\n",
    "# Iterate over the query terms and retrieve documents\n",
    "for term in query_terms:\n",
    "    if term in inverted_index:\n",
    "        result_docs.update(inverted_index[term])  # Add documents that contain the query term\n",
    "\n",
    "# Step 5: Display the results\n",
    "if result_docs:\n",
    "    print(\"\\nDocuments matching the query:\")\n",
    "    for doc in result_docs:\n",
    "        print(doc)\n",
    "else:\n",
    "    print(\"\\nNo documents found for the query.\")\n"
   ]
  },
  {
   "cell_type": "markdown",
   "id": "e63dcbb8",
   "metadata": {},
   "source": [
    "# Explanation:\n",
    "1. Inverted Index Construction: The inverted index is created the same way as before, mapping each word to the documents it appears in.\n",
    "2. Search Input: We prompt the user to input a search query.\n",
    "\n",
    "      -The query is converted to lowercase and split into individual terms.\n",
    "3. Search Query Processing: We search the inverted index for each query term and find which documents contain it.\n",
    "4. Result Display: If any matching documents are found, they are displayed. Otherwise, a message indicates no matches were found.# \n",
    "\n",
    "# How it Works:\n",
    "- Inverted Index: The program builds an index of words (terms) and the documents where those words appear.\n",
    "- Search: The user enters a search query, and the program checks which documents contain all the words in the query.\n",
    "- Results: The documents containing all the terms from the query are displayed."
   ]
  },
  {
   "cell_type": "markdown",
   "id": "374bc821",
   "metadata": {},
   "source": [
    "# Alternative short\n"
   ]
  },
  {
   "cell_type": "code",
   "execution_count": 5,
   "id": "19cdf7db",
   "metadata": {},
   "outputs": [
    {
     "name": "stdout",
     "output_type": "stream",
     "text": [
      "dog -> Document 2\n",
      "the -> Document 1, Document 2\n",
      "brown -> Document 1\n",
      "slept -> Document 2\n",
      "in -> Document 2\n",
      "fox -> Document 1\n",
      "lazy -> Document 1, Document 2\n",
      "sun. -> Document 2\n",
      "over -> Document 1\n",
      "jumped -> Document 1\n",
      "quick -> Document 1\n",
      "dog. -> Document 1\n"
     ]
    }
   ],
   "source": [
    "# Define the documents\n",
    "document1 = \"The quick brown fox jumped over the lazy dog.\"\n",
    "document2 = \"The lazy dog slept in the sun.\"\n",
    "\n",
    "# Step 1: Tokenize the documents\n",
    "# Convert each document to lowercase and split it into words\n",
    "tokens1 = document1.lower().split()\n",
    "tokens2 = document2.lower().split()\n",
    "\n",
    "# Combine the tokens into a list of unique terms\n",
    "terms = list(set(tokens1 + tokens2))\n",
    "\n",
    "# Step 2: Build the inverted index\n",
    "# Create an empty dictionary to store the inverted index\n",
    "inverted_index = {}\n",
    "\n",
    "# For each term, find the documents that contain it\n",
    "for term in terms:\n",
    "\tdocuments = []\n",
    "\tif term in tokens1:\n",
    "\t\tdocuments.append(\"Document 1\")\n",
    "\tif term in tokens2:\n",
    "\t\tdocuments.append(\"Document 2\")\n",
    "\tinverted_index[term] = documents\n",
    "\n",
    "# Step 3: Print the inverted index\n",
    "for term, documents in inverted_index.items():\n",
    "\tprint(term, \"->\", \", \".join(documents))\n"
   ]
  },
  {
   "cell_type": "code",
   "execution_count": null,
   "id": "ae9bc0bf",
   "metadata": {},
   "outputs": [],
   "source": []
  }
 ],
 "metadata": {
  "kernelspec": {
   "display_name": "Python 3 (ipykernel)",
   "language": "python",
   "name": "python3"
  },
  "language_info": {
   "codemirror_mode": {
    "name": "ipython",
    "version": 3
   },
   "file_extension": ".py",
   "mimetype": "text/x-python",
   "name": "python",
   "nbconvert_exporter": "python",
   "pygments_lexer": "ipython3",
   "version": "3.11.4"
  }
 },
 "nbformat": 4,
 "nbformat_minor": 5
}
