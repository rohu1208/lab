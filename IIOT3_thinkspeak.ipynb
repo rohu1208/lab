{
 "cells": [
  {
   "cell_type": "code",
   "execution_count": null,
   "id": "6e94c641",
   "metadata": {},
   "outputs": [
    {
     "name": "stdout",
     "output_type": "stream",
     "text": [
      "Temperature: 16\n",
      "200 OK\n",
      "Temperature: 17\n",
      "200 OK\n",
      "Temperature: 18\n",
      "200 OK\n",
      "Temperature: 19\n",
      "200 OK\n"
     ]
    }
   ],
   "source": [
    "import http.client\n",
    "import urllib.request\n",
    "import urllib.parse\n",
    "import time\n",
    "# Replace with your actual API key from ThingSpeak\n",
    "key = 'J6W3V4ISBN968QVS'  # Copy your ThingSpeak Write API Key here\n",
    "\n",
    "t = 15  # Starting temperature value\n",
    "\n",
    "while True:\n",
    "    t = t + 1  # Increase temperature\n",
    "    print(\"Temperature:\", t)  # Print temperature\n",
    "\n",
    "    # Prepare the parameters to send\n",
    "    params = urllib.parse.urlencode({'field1': t, 'key': key})\n",
    "    \n",
    "    # Set up headers\n",
    "    headers = {\n",
    "        \"Content-type\": \"application/x-www-form-urlencoded\",\n",
    "        \"Accept\": \"text/plain\"\n",
    "    }\n",
    "    \n",
    "    # Establish connection with ThingSpeak\n",
    "    con = http.client.HTTPConnection(\"api.thingspeak.com\")\n",
    "    \n",
    "    # Send a POST request to ThingSpeak with the data\n",
    "    con.request(\"POST\", \"/update\", params, headers)\n",
    "    \n",
    "    # Get the response from ThingSpeak\n",
    "    response = con.getresponse()\n",
    "    \n",
    "    # Print the response status and reason\n",
    "    print(response.status, response.reason)\n",
    "    \n",
    "    # Read the response data\n",
    "    data = response.read()\n",
    "    \n",
    "    # Close the connection\n",
    "    con.close()\n",
    "    time.sleep(15) #15 sec delay\n"
   ]
  },
  {
   "cell_type": "code",
   "execution_count": null,
   "id": "709b5a92",
   "metadata": {},
   "outputs": [],
   "source": []
  },
  {
   "cell_type": "code",
   "execution_count": null,
   "id": "2f3d4e4c",
   "metadata": {},
   "outputs": [],
   "source": []
  }
 ],
 "metadata": {
  "kernelspec": {
   "display_name": "Python 3 (ipykernel)",
   "language": "python",
   "name": "python3"
  },
  "language_info": {
   "codemirror_mode": {
    "name": "ipython",
    "version": 3
   },
   "file_extension": ".py",
   "mimetype": "text/x-python",
   "name": "python",
   "nbconvert_exporter": "python",
   "pygments_lexer": "ipython3",
   "version": "3.11.4"
  }
 },
 "nbformat": 4,
 "nbformat_minor": 5
}
